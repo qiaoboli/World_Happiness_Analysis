{
 "cells": [
  {
   "cell_type": "code",
   "execution_count": 7,
   "metadata": {},
   "outputs": [],
   "source": [
    "import pandas as pd\n",
    "import numpy as np\n",
    "import matplotlib.pyplot as plt\n",
    "import seaborn as sns\n",
    "%matplotlib inline"
   ]
  },
  {
   "cell_type": "markdown",
   "metadata": {},
   "source": [
    "_From Kaggle:_\n",
    "### Variable Name & Description of Indicator:\n",
    "__country__ _: Unique Identifier_ <br>\n",
    "__incomeperperson__ _: Gross Domestic Product per capita in constant 2000 US\\\\$. The inflation but not the differences in the cost of living between countries has been taken into account._ <br>\n",
    "__alcconsumption__ _: Alcohol consumption per adult (age 15+), litres Recorded and estimated average alcohol consumption, adult (15+) per capita consumption in litres pure alcohol_ <br>\n",
    "__suicideper100TH__ _: Suicide, age adjusted, per 100 000 Mortality due to self-inflicted injury, per 100 000 standard population, age adjusted_<br>\n",
    "__employrate__ _: Total employees age 15+ (\\% of population) Percentage of total population, age above 15, that has been employed during the given year._<br>\n",
    "__urbanrate__ _: Urban population (\\% of total) Urban population refers to people living in urban areas as defined by national statistical offices (calculated using World Bank population estimates and urban ratios from the United Nations World Urbanization Prospects)_<br>"
   ]
  },
  {
   "cell_type": "code",
   "execution_count": 8,
   "metadata": {},
   "outputs": [
    {
     "data": {
      "text/html": [
       "<div>\n",
       "<style scoped>\n",
       "    .dataframe tbody tr th:only-of-type {\n",
       "        vertical-align: middle;\n",
       "    }\n",
       "\n",
       "    .dataframe tbody tr th {\n",
       "        vertical-align: top;\n",
       "    }\n",
       "\n",
       "    .dataframe thead th {\n",
       "        text-align: right;\n",
       "    }\n",
       "</style>\n",
       "<table border=\"1\" class=\"dataframe\">\n",
       "  <thead>\n",
       "    <tr style=\"text-align: right;\">\n",
       "      <th></th>\n",
       "      <th>country</th>\n",
       "      <th>alcconsumption</th>\n",
       "      <th>incomeperperson</th>\n",
       "      <th>suicideper100th</th>\n",
       "      <th>employrate</th>\n",
       "      <th>urbanrate</th>\n",
       "    </tr>\n",
       "  </thead>\n",
       "  <tbody>\n",
       "    <tr>\n",
       "      <th>0</th>\n",
       "      <td>Afghanistan</td>\n",
       "      <td>0.03</td>\n",
       "      <td>NaN</td>\n",
       "      <td>6.684385</td>\n",
       "      <td>55.700001</td>\n",
       "      <td>24.04</td>\n",
       "    </tr>\n",
       "    <tr>\n",
       "      <th>1</th>\n",
       "      <td>Albania</td>\n",
       "      <td>7.29</td>\n",
       "      <td>1914.996551</td>\n",
       "      <td>7.699330</td>\n",
       "      <td>51.400002</td>\n",
       "      <td>46.72</td>\n",
       "    </tr>\n",
       "    <tr>\n",
       "      <th>2</th>\n",
       "      <td>Algeria</td>\n",
       "      <td>0.69</td>\n",
       "      <td>2231.993335</td>\n",
       "      <td>4.848770</td>\n",
       "      <td>50.500000</td>\n",
       "      <td>65.22</td>\n",
       "    </tr>\n",
       "    <tr>\n",
       "      <th>3</th>\n",
       "      <td>Andorra</td>\n",
       "      <td>10.17</td>\n",
       "      <td>21943.339900</td>\n",
       "      <td>5.362179</td>\n",
       "      <td>NaN</td>\n",
       "      <td>88.92</td>\n",
       "    </tr>\n",
       "    <tr>\n",
       "      <th>4</th>\n",
       "      <td>Angola</td>\n",
       "      <td>5.57</td>\n",
       "      <td>1381.004268</td>\n",
       "      <td>14.554677</td>\n",
       "      <td>75.699997</td>\n",
       "      <td>56.70</td>\n",
       "    </tr>\n",
       "    <tr>\n",
       "      <th>...</th>\n",
       "      <td>...</td>\n",
       "      <td>...</td>\n",
       "      <td>...</td>\n",
       "      <td>...</td>\n",
       "      <td>...</td>\n",
       "      <td>...</td>\n",
       "    </tr>\n",
       "    <tr>\n",
       "      <th>208</th>\n",
       "      <td>Vietnam</td>\n",
       "      <td>3.91</td>\n",
       "      <td>722.807559</td>\n",
       "      <td>11.653322</td>\n",
       "      <td>71.000000</td>\n",
       "      <td>27.84</td>\n",
       "    </tr>\n",
       "    <tr>\n",
       "      <th>209</th>\n",
       "      <td>West Bank and Gaza</td>\n",
       "      <td>NaN</td>\n",
       "      <td>NaN</td>\n",
       "      <td>NaN</td>\n",
       "      <td>32.000000</td>\n",
       "      <td>71.90</td>\n",
       "    </tr>\n",
       "    <tr>\n",
       "      <th>210</th>\n",
       "      <td>Yemen, Rep.</td>\n",
       "      <td>0.20</td>\n",
       "      <td>610.357367</td>\n",
       "      <td>6.265789</td>\n",
       "      <td>39.000000</td>\n",
       "      <td>30.64</td>\n",
       "    </tr>\n",
       "    <tr>\n",
       "      <th>211</th>\n",
       "      <td>Zambia</td>\n",
       "      <td>3.56</td>\n",
       "      <td>432.226337</td>\n",
       "      <td>12.019036</td>\n",
       "      <td>61.000000</td>\n",
       "      <td>35.42</td>\n",
       "    </tr>\n",
       "    <tr>\n",
       "      <th>212</th>\n",
       "      <td>Zimbabwe</td>\n",
       "      <td>4.96</td>\n",
       "      <td>320.771890</td>\n",
       "      <td>13.905267</td>\n",
       "      <td>66.800003</td>\n",
       "      <td>37.34</td>\n",
       "    </tr>\n",
       "  </tbody>\n",
       "</table>\n",
       "<p>213 rows × 6 columns</p>\n",
       "</div>"
      ],
      "text/plain": [
       "                country  alcconsumption  incomeperperson  suicideper100th  \\\n",
       "0           Afghanistan            0.03              NaN         6.684385   \n",
       "1               Albania            7.29      1914.996551         7.699330   \n",
       "2               Algeria            0.69      2231.993335         4.848770   \n",
       "3               Andorra           10.17     21943.339900         5.362179   \n",
       "4                Angola            5.57      1381.004268        14.554677   \n",
       "..                  ...             ...              ...              ...   \n",
       "208             Vietnam            3.91       722.807559        11.653322   \n",
       "209  West Bank and Gaza             NaN              NaN              NaN   \n",
       "210         Yemen, Rep.            0.20       610.357367         6.265789   \n",
       "211              Zambia            3.56       432.226337        12.019036   \n",
       "212            Zimbabwe            4.96       320.771890        13.905267   \n",
       "\n",
       "     employrate  urbanrate  \n",
       "0     55.700001      24.04  \n",
       "1     51.400002      46.72  \n",
       "2     50.500000      65.22  \n",
       "3           NaN      88.92  \n",
       "4     75.699997      56.70  \n",
       "..          ...        ...  \n",
       "208   71.000000      27.84  \n",
       "209   32.000000      71.90  \n",
       "210   39.000000      30.64  \n",
       "211   61.000000      35.42  \n",
       "212   66.800003      37.34  \n",
       "\n",
       "[213 rows x 6 columns]"
      ]
     },
     "execution_count": 8,
     "metadata": {},
     "output_type": "execute_result"
    }
   ],
   "source": [
    "alcohol = pd.read_csv('alcohol_consumption.csv')\n",
    "alcohol #213 entries of data"
   ]
  },
  {
   "cell_type": "code",
   "execution_count": 14,
   "metadata": {},
   "outputs": [
    {
     "name": "stdout",
     "output_type": "stream",
     "text": [
      "<class 'pandas.core.frame.DataFrame'>\n",
      "RangeIndex: 213 entries, 0 to 212\n",
      "Data columns (total 6 columns):\n",
      " #   Column           Non-Null Count  Dtype  \n",
      "---  ------           --------------  -----  \n",
      " 0   country          213 non-null    object \n",
      " 1   alcconsumption   187 non-null    float64\n",
      " 2   incomeperperson  190 non-null    float64\n",
      " 3   suicideper100th  191 non-null    float64\n",
      " 4   employrate       178 non-null    float64\n",
      " 5   urbanrate        203 non-null    float64\n",
      "dtypes: float64(5), object(1)\n",
      "memory usage: 10.1+ KB\n"
     ]
    },
    {
     "data": {
      "text/plain": [
       "None"
      ]
     },
     "metadata": {},
     "output_type": "display_data"
    },
    {
     "data": {
      "text/html": [
       "<div>\n",
       "<style scoped>\n",
       "    .dataframe tbody tr th:only-of-type {\n",
       "        vertical-align: middle;\n",
       "    }\n",
       "\n",
       "    .dataframe tbody tr th {\n",
       "        vertical-align: top;\n",
       "    }\n",
       "\n",
       "    .dataframe thead th {\n",
       "        text-align: right;\n",
       "    }\n",
       "</style>\n",
       "<table border=\"1\" class=\"dataframe\">\n",
       "  <thead>\n",
       "    <tr style=\"text-align: right;\">\n",
       "      <th></th>\n",
       "      <th>alcconsumption</th>\n",
       "      <th>incomeperperson</th>\n",
       "      <th>suicideper100th</th>\n",
       "      <th>employrate</th>\n",
       "      <th>urbanrate</th>\n",
       "    </tr>\n",
       "  </thead>\n",
       "  <tbody>\n",
       "    <tr>\n",
       "      <th>count</th>\n",
       "      <td>187.000000</td>\n",
       "      <td>190.000000</td>\n",
       "      <td>191.000000</td>\n",
       "      <td>178.000000</td>\n",
       "      <td>203.000000</td>\n",
       "    </tr>\n",
       "    <tr>\n",
       "      <th>mean</th>\n",
       "      <td>6.689412</td>\n",
       "      <td>8740.966076</td>\n",
       "      <td>9.640839</td>\n",
       "      <td>58.635955</td>\n",
       "      <td>56.769360</td>\n",
       "    </tr>\n",
       "    <tr>\n",
       "      <th>std</th>\n",
       "      <td>4.899617</td>\n",
       "      <td>14262.809083</td>\n",
       "      <td>6.300178</td>\n",
       "      <td>10.519454</td>\n",
       "      <td>23.844933</td>\n",
       "    </tr>\n",
       "    <tr>\n",
       "      <th>min</th>\n",
       "      <td>0.030000</td>\n",
       "      <td>103.775857</td>\n",
       "      <td>0.201449</td>\n",
       "      <td>32.000000</td>\n",
       "      <td>10.400000</td>\n",
       "    </tr>\n",
       "    <tr>\n",
       "      <th>25%</th>\n",
       "      <td>2.625000</td>\n",
       "      <td>748.245151</td>\n",
       "      <td>4.988449</td>\n",
       "      <td>51.225000</td>\n",
       "      <td>36.830000</td>\n",
       "    </tr>\n",
       "    <tr>\n",
       "      <th>50%</th>\n",
       "      <td>5.920000</td>\n",
       "      <td>2553.496056</td>\n",
       "      <td>8.262893</td>\n",
       "      <td>58.699999</td>\n",
       "      <td>57.940000</td>\n",
       "    </tr>\n",
       "    <tr>\n",
       "      <th>75%</th>\n",
       "      <td>9.925000</td>\n",
       "      <td>9379.891166</td>\n",
       "      <td>12.328551</td>\n",
       "      <td>64.975000</td>\n",
       "      <td>74.210000</td>\n",
       "    </tr>\n",
       "    <tr>\n",
       "      <th>max</th>\n",
       "      <td>23.010000</td>\n",
       "      <td>105147.437700</td>\n",
       "      <td>35.752872</td>\n",
       "      <td>83.199997</td>\n",
       "      <td>100.000000</td>\n",
       "    </tr>\n",
       "  </tbody>\n",
       "</table>\n",
       "</div>"
      ],
      "text/plain": [
       "       alcconsumption  incomeperperson  suicideper100th  employrate  \\\n",
       "count      187.000000       190.000000       191.000000  178.000000   \n",
       "mean         6.689412      8740.966076         9.640839   58.635955   \n",
       "std          4.899617     14262.809083         6.300178   10.519454   \n",
       "min          0.030000       103.775857         0.201449   32.000000   \n",
       "25%          2.625000       748.245151         4.988449   51.225000   \n",
       "50%          5.920000      2553.496056         8.262893   58.699999   \n",
       "75%          9.925000      9379.891166        12.328551   64.975000   \n",
       "max         23.010000    105147.437700        35.752872   83.199997   \n",
       "\n",
       "        urbanrate  \n",
       "count  203.000000  \n",
       "mean    56.769360  \n",
       "std     23.844933  \n",
       "min     10.400000  \n",
       "25%     36.830000  \n",
       "50%     57.940000  \n",
       "75%     74.210000  \n",
       "max    100.000000  "
      ]
     },
     "metadata": {},
     "output_type": "display_data"
    },
    {
     "data": {
      "text/plain": [
       "Index(['country', 'alcconsumption', 'incomeperperson', 'suicideper100th',\n",
       "       'employrate', 'urbanrate'],\n",
       "      dtype='object')"
      ]
     },
     "metadata": {},
     "output_type": "display_data"
    }
   ],
   "source": [
    "display(alcohol.info(), alcohol.describe(), alcohol.columns)\n",
    "#There are 6 columns, with 5 contributes for each country \n",
    "#    - alcohol consumption, incomer per person, suicide per 100th, employmnent rate, urban rate (all in float64)"
   ]
  },
  {
   "cell_type": "markdown",
   "metadata": {},
   "source": [
    "### Missing Values"
   ]
  },
  {
   "cell_type": "code",
   "execution_count": 13,
   "metadata": {
    "scrolled": true
   },
   "outputs": [
    {
     "data": {
      "text/plain": [
       "country             0\n",
       "alcconsumption     26\n",
       "incomeperperson    23\n",
       "suicideper100th    22\n",
       "employrate         35\n",
       "urbanrate          10\n",
       "dtype: int64"
      ]
     },
     "execution_count": 13,
     "metadata": {},
     "output_type": "execute_result"
    }
   ],
   "source": [
    "# numbers of missing values in each column\n",
    "alcohol.isna().sum()"
   ]
  },
  {
   "cell_type": "markdown",
   "metadata": {},
   "source": [
    "### Outliers"
   ]
  },
  {
   "cell_type": "code",
   "execution_count": 15,
   "metadata": {
    "scrolled": true
   },
   "outputs": [
    {
     "data": {
      "text/plain": [
       "<AxesSubplot:>"
      ]
     },
     "execution_count": 15,
     "metadata": {},
     "output_type": "execute_result"
    },
    {
     "data": {
      "image/png": "[encoded data removed]",
      "text/plain": [
       "<Figure size 432x288 with 1 Axes>"
      ]
     },
     "metadata": {
      "needs_background": "light"
     },
     "output_type": "display_data"
    }
   ],
   "source": [
    "alcohol.plot()"
   ]
  },
  {
   "cell_type": "code",
   "execution_count": 26,
   "metadata": {},
   "outputs": [
    {
     "data": {
      "text/plain": [
       "<AxesSubplot:title={'center':'Box plot of alcohol'}>"
      ]
     },
     "execution_count": 26,
     "metadata": {},
     "output_type": "execute_result"
    },
    {
     "data": {
      "image/png": "[encoded data removed]",
      "text/plain": [
       "<Figure size 720x288 with 1 Axes>"
      ]
     },
     "metadata": {
      "needs_background": "light"
     },
     "output_type": "display_data"
    }
   ],
   "source": [
    "# outliers with boxplots\n",
    "alcohol.plot.box(title='Box plot of alcohol', figsize = (10,4))"
   ]
  },
  {
   "cell_type": "code",
   "execution_count": 39,
   "metadata": {},
   "outputs": [
    {
     "data": {
      "text/plain": [
       "<AxesSubplot:>"
      ]
     },
     "execution_count": 39,
     "metadata": {},
     "output_type": "execute_result"
    },
    {
     "data": {
      "image/png": "[encoded data removed]",
      "text/plain": [
       "<Figure size 432x288 with 1 Axes>"
      ]
     },
     "metadata": {
      "needs_background": "light"
     },
     "output_type": "display_data"
    }
   ],
   "source": [
    "#looking into details of each box plot\n",
    "alcohol['incomeperperson'].plot.box()"
   ]
  },
  {
   "cell_type": "code",
   "execution_count": 34,
   "metadata": {},
   "outputs": [
    {
     "data": {
      "text/plain": [
       "<AxesSubplot:>"
      ]
     },
     "execution_count": 34,
     "metadata": {},
     "output_type": "execute_result"
    },
    {
     "data": {
      "image/png": "[encoded data removed]",
      "text/plain": [
       "<Figure size 432x288 with 1 Axes>"
      ]
     },
     "metadata": {
      "needs_background": "light"
     },
     "output_type": "display_data"
    }
   ],
   "source": [
    "alcohol['alcconsumption'].plot.box()"
   ]
  },
  {
   "cell_type": "code",
   "execution_count": 35,
   "metadata": {},
   "outputs": [
    {
     "data": {
      "text/plain": [
       "<AxesSubplot:>"
      ]
     },
     "execution_count": 35,
     "metadata": {},
     "output_type": "execute_result"
    },
    {
     "data": {
      "image/png": "[encoded data removed]",
      "text/plain": [
       "<Figure size 432x288 with 1 Axes>"
      ]
     },
     "metadata": {
      "needs_background": "light"
     },
     "output_type": "display_data"
    }
   ],
   "source": [
    "alcohol['suicideper100th'].plot.box()"
   ]
  },
  {
   "cell_type": "code",
   "execution_count": 36,
   "metadata": {},
   "outputs": [
    {
     "data": {
      "text/plain": [
       "<AxesSubplot:>"
      ]
     },
     "execution_count": 36,
     "metadata": {},
     "output_type": "execute_result"
    },
    {
     "data": {
      "image/png": "[encoded data removed]",
      "text/plain": [
       "<Figure size 432x288 with 1 Axes>"
      ]
     },
     "metadata": {
      "needs_background": "light"
     },
     "output_type": "display_data"
    }
   ],
   "source": [
    "alcohol['employrate'].plot.box()"
   ]
  },
  {
   "cell_type": "code",
   "execution_count": 37,
   "metadata": {},
   "outputs": [
    {
     "data": {
      "text/plain": [
       "<AxesSubplot:>"
      ]
     },
     "execution_count": 37,
     "metadata": {},
     "output_type": "execute_result"
    },
    {
     "data": {
      "image/png": "[encoded data removed]",
      "text/plain": [
       "<Figure size 432x288 with 1 Axes>"
      ]
     },
     "metadata": {
      "needs_background": "light"
     },
     "output_type": "display_data"
    }
   ],
   "source": [
    "alcohol['urbanrate'].plot.box()"
   ]
  },
  {
   "cell_type": "markdown",
   "metadata": {},
   "source": [
    "_From the boxplots, we can see that there are no outliers form employment rate and urban rate_"
   ]
  }
 ],
 "metadata": {
  "kernelspec": {
   "display_name": "Python 3",
   "language": "python",
   "name": "python3"
  },
  "language_info": {
   "codemirror_mode": {
    "name": "ipython",
    "version": 3
   },
   "file_extension": ".py",
   "mimetype": "text/x-python",
   "name": "python",
   "nbconvert_exporter": "python",
   "pygments_lexer": "ipython3",
   "version": "3.8.5"
  }
 },
 "nbformat": 4,
 "nbformat_minor": 4
}
