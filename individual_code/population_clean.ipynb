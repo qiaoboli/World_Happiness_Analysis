{
 "cells": [
  {
   "cell_type": "markdown",
   "metadata": {},
   "source": [
    "Importing necessary libraries"
   ]
  },
  {
   "cell_type": "code",
   "execution_count": 1,
   "metadata": {},
   "outputs": [],
   "source": [
    "import pandas as pd\n",
    "import numpy as np\n",
    "import matplotlib.pyplot as plt\n",
    "%matplotlib inline"
   ]
  },
  {
   "cell_type": "markdown",
   "metadata": {},
   "source": [
    "Importing the population dataset"
   ]
  },
  {
   "cell_type": "code",
   "execution_count": 2,
   "metadata": {},
   "outputs": [],
   "source": [
    "df_pop=pd.read_csv(\"F:\\\\Sem 2\\\\CPSC\\\\Group Project\\\\population_by_country_2020.csv\")"
   ]
  },
  {
   "cell_type": "code",
   "execution_count": 3,
   "metadata": {
    "scrolled": true
   },
   "outputs": [
    {
     "name": "stdout",
     "output_type": "stream",
     "text": [
      "<class 'pandas.core.frame.DataFrame'>\n",
      "RangeIndex: 235 entries, 0 to 234\n",
      "Data columns (total 11 columns):\n",
      " #   Column                   Non-Null Count  Dtype  \n",
      "---  ------                   --------------  -----  \n",
      " 0   Country (or dependency)  235 non-null    object \n",
      " 1   Population (2020)        235 non-null    int64  \n",
      " 2   Yearly Change            235 non-null    object \n",
      " 3   Net Change               235 non-null    int64  \n",
      " 4   Density (P/Km²)          235 non-null    int64  \n",
      " 5   Land Area (Km²)          235 non-null    int64  \n",
      " 6   Migrants (net)           201 non-null    float64\n",
      " 7   Fert. Rate               235 non-null    object \n",
      " 8   Med. Age                 235 non-null    object \n",
      " 9   Urban Pop %              235 non-null    object \n",
      " 10  World Share              235 non-null    object \n",
      "dtypes: float64(1), int64(4), object(6)\n",
      "memory usage: 20.3+ KB\n"
     ]
    }
   ],
   "source": [
    "df_pop.info()\n",
    "#235 entries"
   ]
  },
  {
   "cell_type": "markdown",
   "metadata": {},
   "source": [
    "# From Kaggle:\n",
    "\n",
    "#Variable Name & Description of Indicator:\n",
    "\n",
    "Country or Dependency : Unique Identifier\n",
    "\n",
    "Population (2020) : Population of different countries\n",
    "\n",
    "Yearly Change : Population change by yearly\n",
    "\n",
    "Net Change : Net change of the population\n",
    "\n",
    "Density (P/Km²) : Density of the population\n",
    "\n",
    "Land Area (Km²) : Land area in terms of kilometer square\n",
    "\n",
    "Migrants (net) : Migrants of the countries\n",
    "\n",
    "Fert. Rate :  Fertility or the growth rate of individual countries\n",
    "\n",
    "Med. Age : Median age (Middle Age or the average age) lifespan of the country\n",
    "\n",
    "Urban Pop % :  Urban population\n",
    "\n",
    "World Share : Population share in the world"
   ]
  },
  {
   "cell_type": "code",
   "execution_count": 15,
   "metadata": {},
   "outputs": [
    {
     "data": {
      "text/html": [
       "<div>\n",
       "<style scoped>\n",
       "    .dataframe tbody tr th:only-of-type {\n",
       "        vertical-align: middle;\n",
       "    }\n",
       "\n",
       "    .dataframe tbody tr th {\n",
       "        vertical-align: top;\n",
       "    }\n",
       "\n",
       "    .dataframe thead th {\n",
       "        text-align: right;\n",
       "    }\n",
       "</style>\n",
       "<table border=\"1\" class=\"dataframe\">\n",
       "  <thead>\n",
       "    <tr style=\"text-align: right;\">\n",
       "      <th></th>\n",
       "      <th>Country</th>\n",
       "      <th>Population</th>\n",
       "      <th>Yearly Change</th>\n",
       "      <th>Net Change</th>\n",
       "      <th>Population Density</th>\n",
       "      <th>Land Area (Km²)</th>\n",
       "      <th>Migrants</th>\n",
       "      <th>Fert. Rate</th>\n",
       "      <th>Med. Age</th>\n",
       "      <th>Urban Pop %</th>\n",
       "      <th>World Share</th>\n",
       "    </tr>\n",
       "  </thead>\n",
       "  <tbody>\n",
       "    <tr>\n",
       "      <th>0</th>\n",
       "      <td>China</td>\n",
       "      <td>1440297825</td>\n",
       "      <td>0.39 %</td>\n",
       "      <td>5540090</td>\n",
       "      <td>153</td>\n",
       "      <td>9388211</td>\n",
       "      <td>-348399.0</td>\n",
       "      <td>1.7</td>\n",
       "      <td>38</td>\n",
       "      <td>61 %</td>\n",
       "      <td>18.47 %</td>\n",
       "    </tr>\n",
       "    <tr>\n",
       "      <th>1</th>\n",
       "      <td>India</td>\n",
       "      <td>1382345085</td>\n",
       "      <td>0.99 %</td>\n",
       "      <td>13586631</td>\n",
       "      <td>464</td>\n",
       "      <td>2973190</td>\n",
       "      <td>-532687.0</td>\n",
       "      <td>2.2</td>\n",
       "      <td>28</td>\n",
       "      <td>35 %</td>\n",
       "      <td>17.70 %</td>\n",
       "    </tr>\n",
       "    <tr>\n",
       "      <th>2</th>\n",
       "      <td>United States</td>\n",
       "      <td>331341050</td>\n",
       "      <td>0.59 %</td>\n",
       "      <td>1937734</td>\n",
       "      <td>36</td>\n",
       "      <td>9147420</td>\n",
       "      <td>954806.0</td>\n",
       "      <td>1.8</td>\n",
       "      <td>38</td>\n",
       "      <td>83 %</td>\n",
       "      <td>4.25 %</td>\n",
       "    </tr>\n",
       "    <tr>\n",
       "      <th>3</th>\n",
       "      <td>Indonesia</td>\n",
       "      <td>274021604</td>\n",
       "      <td>1.07 %</td>\n",
       "      <td>2898047</td>\n",
       "      <td>151</td>\n",
       "      <td>1811570</td>\n",
       "      <td>-98955.0</td>\n",
       "      <td>2.3</td>\n",
       "      <td>30</td>\n",
       "      <td>56 %</td>\n",
       "      <td>3.51 %</td>\n",
       "    </tr>\n",
       "    <tr>\n",
       "      <th>4</th>\n",
       "      <td>Pakistan</td>\n",
       "      <td>221612785</td>\n",
       "      <td>2.00 %</td>\n",
       "      <td>4327022</td>\n",
       "      <td>287</td>\n",
       "      <td>770880</td>\n",
       "      <td>-233379.0</td>\n",
       "      <td>3.6</td>\n",
       "      <td>23</td>\n",
       "      <td>35 %</td>\n",
       "      <td>2.83 %</td>\n",
       "    </tr>\n",
       "  </tbody>\n",
       "</table>\n",
       "</div>"
      ],
      "text/plain": [
       "         Country  Population Yearly Change  Net Change  Population Density  \\\n",
       "0          China  1440297825        0.39 %     5540090                 153   \n",
       "1          India  1382345085        0.99 %    13586631                 464   \n",
       "2  United States   331341050        0.59 %     1937734                  36   \n",
       "3      Indonesia   274021604        1.07 %     2898047                 151   \n",
       "4       Pakistan   221612785        2.00 %     4327022                 287   \n",
       "\n",
       "   Land Area (Km²)  Migrants Fert. Rate Med. Age Urban Pop % World Share  \n",
       "0          9388211 -348399.0        1.7       38        61 %     18.47 %  \n",
       "1          2973190 -532687.0        2.2       28        35 %     17.70 %  \n",
       "2          9147420  954806.0        1.8       38        83 %      4.25 %  \n",
       "3          1811570  -98955.0        2.3       30        56 %      3.51 %  \n",
       "4           770880 -233379.0        3.6       23        35 %      2.83 %  "
      ]
     },
     "execution_count": 15,
     "metadata": {},
     "output_type": "execute_result"
    }
   ],
   "source": [
    "df_pop.head(5)"
   ]
  },
  {
   "cell_type": "markdown",
   "metadata": {},
   "source": [
    "Renaming column names"
   ]
  },
  {
   "cell_type": "code",
   "execution_count": 8,
   "metadata": {
    "scrolled": true
   },
   "outputs": [],
   "source": [
    "df_pop.rename(columns={'Country (or dependency)':'Country',\n",
    "                      'Population (2020)':'Population',\n",
    "                      'Density (P/Km²)':'Population Density',\n",
    "                      'Migrants (net)':'Migrants'}, inplace=True)"
   ]
  },
  {
   "cell_type": "markdown",
   "metadata": {},
   "source": [
    "# Missing Values"
   ]
  },
  {
   "cell_type": "code",
   "execution_count": 9,
   "metadata": {},
   "outputs": [
    {
     "data": {
      "text/plain": [
       "Country                0\n",
       "Population             0\n",
       "Yearly Change          0\n",
       "Net Change             0\n",
       "Population Density     0\n",
       "Land Area (Km²)        0\n",
       "Migrants              34\n",
       "Fert. Rate             0\n",
       "Med. Age               0\n",
       "Urban Pop %            0\n",
       "World Share            0\n",
       "dtype: int64"
      ]
     },
     "execution_count": 9,
     "metadata": {},
     "output_type": "execute_result"
    }
   ],
   "source": [
    "df_pop.isnull().sum()"
   ]
  },
  {
   "cell_type": "code",
   "execution_count": 11,
   "metadata": {},
   "outputs": [
    {
     "data": {
      "text/plain": [
       "Country               0\n",
       "Population            0\n",
       "Yearly Change         0\n",
       "Net Change            0\n",
       "Population Density    0\n",
       "Land Area (Km²)       0\n",
       "Migrants              0\n",
       "Fert. Rate            0\n",
       "Med. Age              0\n",
       "Urban Pop %           0\n",
       "World Share           0\n",
       "dtype: int64"
      ]
     },
     "execution_count": 11,
     "metadata": {},
     "output_type": "execute_result"
    }
   ],
   "source": [
    "df_pop['Migrants']=df_pop['Migrants'].fillna(0)\n",
    "df_pop.isnull().sum()"
   ]
  },
  {
   "cell_type": "code",
   "execution_count": 22,
   "metadata": {},
   "outputs": [
    {
     "name": "stdout",
     "output_type": "stream",
     "text": [
      "<class 'pandas.core.frame.DataFrame'>\n",
      "RangeIndex: 235 entries, 0 to 234\n",
      "Data columns (total 11 columns):\n",
      " #   Column              Non-Null Count  Dtype  \n",
      "---  ------              --------------  -----  \n",
      " 0   Country             235 non-null    object \n",
      " 1   Population          235 non-null    int64  \n",
      " 2   Yearly Change       235 non-null    object \n",
      " 3   Net Change          235 non-null    int64  \n",
      " 4   Population Density  235 non-null    int64  \n",
      " 5   Land Area (Km²)     235 non-null    int64  \n",
      " 6   Migrants            235 non-null    float64\n",
      " 7   Fert. Rate          235 non-null    object \n",
      " 8   Med. Age            235 non-null    object \n",
      " 9   Urban Pop %         235 non-null    object \n",
      " 10  World Share         235 non-null    object \n",
      "dtypes: float64(1), int64(4), object(6)\n",
      "memory usage: 20.3+ KB\n"
     ]
    },
    {
     "data": {
      "text/plain": [
       "None"
      ]
     },
     "metadata": {},
     "output_type": "display_data"
    },
    {
     "data": {
      "text/html": [
       "<div>\n",
       "<style scoped>\n",
       "    .dataframe tbody tr th:only-of-type {\n",
       "        vertical-align: middle;\n",
       "    }\n",
       "\n",
       "    .dataframe tbody tr th {\n",
       "        vertical-align: top;\n",
       "    }\n",
       "\n",
       "    .dataframe thead th {\n",
       "        text-align: right;\n",
       "    }\n",
       "</style>\n",
       "<table border=\"1\" class=\"dataframe\">\n",
       "  <thead>\n",
       "    <tr style=\"text-align: right;\">\n",
       "      <th></th>\n",
       "      <th>Population</th>\n",
       "      <th>Net Change</th>\n",
       "      <th>Population Density</th>\n",
       "      <th>Land Area (Km²)</th>\n",
       "      <th>Migrants</th>\n",
       "    </tr>\n",
       "  </thead>\n",
       "  <tbody>\n",
       "    <tr>\n",
       "      <th>count</th>\n",
       "      <td>2.350000e+02</td>\n",
       "      <td>2.350000e+02</td>\n",
       "      <td>235.000000</td>\n",
       "      <td>2.350000e+02</td>\n",
       "      <td>235.000000</td>\n",
       "    </tr>\n",
       "    <tr>\n",
       "      <th>mean</th>\n",
       "      <td>3.322744e+07</td>\n",
       "      <td>3.460878e+05</td>\n",
       "      <td>475.770213</td>\n",
       "      <td>5.535918e+05</td>\n",
       "      <td>5.374468</td>\n",
       "    </tr>\n",
       "    <tr>\n",
       "      <th>std</th>\n",
       "      <td>1.353034e+08</td>\n",
       "      <td>1.128260e+06</td>\n",
       "      <td>2331.285935</td>\n",
       "      <td>1.687796e+06</td>\n",
       "      <td>113983.390381</td>\n",
       "    </tr>\n",
       "    <tr>\n",
       "      <th>min</th>\n",
       "      <td>8.010000e+02</td>\n",
       "      <td>-3.838400e+05</td>\n",
       "      <td>0.000000</td>\n",
       "      <td>0.000000e+00</td>\n",
       "      <td>-653249.000000</td>\n",
       "    </tr>\n",
       "    <tr>\n",
       "      <th>25%</th>\n",
       "      <td>3.994905e+05</td>\n",
       "      <td>4.240000e+02</td>\n",
       "      <td>37.000000</td>\n",
       "      <td>2.545000e+03</td>\n",
       "      <td>-8608.000000</td>\n",
       "    </tr>\n",
       "    <tr>\n",
       "      <th>50%</th>\n",
       "      <td>5.460109e+06</td>\n",
       "      <td>3.917000e+04</td>\n",
       "      <td>95.000000</td>\n",
       "      <td>7.724000e+04</td>\n",
       "      <td>0.000000</td>\n",
       "    </tr>\n",
       "    <tr>\n",
       "      <th>75%</th>\n",
       "      <td>2.067170e+07</td>\n",
       "      <td>2.496600e+05</td>\n",
       "      <td>239.500000</td>\n",
       "      <td>4.038200e+05</td>\n",
       "      <td>4900.000000</td>\n",
       "    </tr>\n",
       "    <tr>\n",
       "      <th>max</th>\n",
       "      <td>1.440298e+09</td>\n",
       "      <td>1.358663e+07</td>\n",
       "      <td>26337.000000</td>\n",
       "      <td>1.637687e+07</td>\n",
       "      <td>954806.000000</td>\n",
       "    </tr>\n",
       "  </tbody>\n",
       "</table>\n",
       "</div>"
      ],
      "text/plain": [
       "         Population    Net Change  Population Density  Land Area (Km²)  \\\n",
       "count  2.350000e+02  2.350000e+02          235.000000     2.350000e+02   \n",
       "mean   3.322744e+07  3.460878e+05          475.770213     5.535918e+05   \n",
       "std    1.353034e+08  1.128260e+06         2331.285935     1.687796e+06   \n",
       "min    8.010000e+02 -3.838400e+05            0.000000     0.000000e+00   \n",
       "25%    3.994905e+05  4.240000e+02           37.000000     2.545000e+03   \n",
       "50%    5.460109e+06  3.917000e+04           95.000000     7.724000e+04   \n",
       "75%    2.067170e+07  2.496600e+05          239.500000     4.038200e+05   \n",
       "max    1.440298e+09  1.358663e+07        26337.000000     1.637687e+07   \n",
       "\n",
       "            Migrants  \n",
       "count     235.000000  \n",
       "mean        5.374468  \n",
       "std    113983.390381  \n",
       "min   -653249.000000  \n",
       "25%     -8608.000000  \n",
       "50%         0.000000  \n",
       "75%      4900.000000  \n",
       "max    954806.000000  "
      ]
     },
     "metadata": {},
     "output_type": "display_data"
    },
    {
     "data": {
      "text/plain": [
       "Index(['Country', 'Population', 'Yearly Change', 'Net Change',\n",
       "       'Population Density', 'Land Area (Km²)', 'Migrants', 'Fert. Rate',\n",
       "       'Med. Age', 'Urban Pop %', 'World Share'],\n",
       "      dtype='object')"
      ]
     },
     "metadata": {},
     "output_type": "display_data"
    }
   ],
   "source": [
    "display(df_pop.info(), df_pop.describe(), df_pop.columns)\n",
    "# there are 10 columns in the dataset with one column country\n",
    "   #and other columns representing different features of the countries"
   ]
  },
  {
   "cell_type": "code",
   "execution_count": 26,
   "metadata": {},
   "outputs": [
    {
     "data": {
      "text/plain": [
       "<AxesSubplot:>"
      ]
     },
     "execution_count": 26,
     "metadata": {},
     "output_type": "execute_result"
    },
    {
     "data": {
      "image/png": "[encoded data removed]",
      "text/plain": [
       "<Figure size 432x288 with 1 Axes>"
      ]
     },
     "metadata": {
      "needs_background": "light"
     },
     "output_type": "display_data"
    }
   ],
   "source": [
    "df_pop.plot()"
   ]
  },
  {
   "cell_type": "code",
   "execution_count": 30,
   "metadata": {},
   "outputs": [
    {
     "data": {
      "text/plain": [
       "<AxesSubplot:title={'center':'Box plot of population dataset'}>"
      ]
     },
     "execution_count": 30,
     "metadata": {},
     "output_type": "execute_result"
    },
    {
     "data": {
      "image/png": "[encoded data removed]",
      "text/plain": [
       "<Figure size 1080x720 with 1 Axes>"
      ]
     },
     "metadata": {
      "needs_background": "light"
     },
     "output_type": "display_data"
    }
   ],
   "source": [
    "df_pop.plot.box(title='Box plot of population dataset', figsize = (15,10))"
   ]
  },
  {
   "cell_type": "code",
   "execution_count": 32,
   "metadata": {},
   "outputs": [
    {
     "data": {
      "text/plain": [
       "<AxesSubplot:>"
      ]
     },
     "execution_count": 32,
     "metadata": {},
     "output_type": "execute_result"
    },
    {
     "data": {
      "image/png": "[encoded data removed]",
      "text/plain": [
       "<Figure size 720x360 with 1 Axes>"
      ]
     },
     "metadata": {
      "needs_background": "light"
     },
     "output_type": "display_data"
    }
   ],
   "source": [
    "df_pop['Population'].plot.box(figsize=(10,5))"
   ]
  },
  {
   "cell_type": "code",
   "execution_count": null,
   "metadata": {},
   "outputs": [],
   "source": []
  }
 ],
 "metadata": {
  "kernelspec": {
   "display_name": "Python 3",
   "language": "python",
   "name": "python3"
  },
  "language_info": {
   "codemirror_mode": {
    "name": "ipython",
    "version": 3
   },
   "file_extension": ".py",
   "mimetype": "text/x-python",
   "name": "python",
   "nbconvert_exporter": "python",
   "pygments_lexer": "ipython3",
   "version": "3.8.5"
  }
 },
 "nbformat": 4,
 "nbformat_minor": 4
}
